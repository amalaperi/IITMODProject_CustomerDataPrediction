{
 "cells": [
  {
   "cell_type": "code",
   "execution_count": 1,
   "id": "f39720b7",
   "metadata": {
    "execution": {
     "iopub.execute_input": "2023-04-01T14:39:00.624572Z",
     "iopub.status.busy": "2023-04-01T14:39:00.624079Z",
     "iopub.status.idle": "2023-04-01T14:39:02.328687Z",
     "shell.execute_reply": "2023-04-01T14:39:02.327234Z"
    },
    "papermill": {
     "duration": 1.720079,
     "end_time": "2023-04-01T14:39:02.332014",
     "exception": false,
     "start_time": "2023-04-01T14:39:00.611935",
     "status": "completed"
    },
    "tags": []
   },
   "outputs": [],
   "source": [
    "import numpy as np\n",
    "import pandas as pd\n",
    "import seaborn as sns\n",
    "import scipy as sp\n",
    "\n",
    "from sklearn.impute import SimpleImputer\n",
    "from sklearn.preprocessing import OneHotEncoder, MinMaxScaler, StandardScaler\n",
    "from sklearn.model_selection import cross_val_score, KFold, train_test_split\n",
    "from sklearn.ensemble import BaggingClassifier, AdaBoostClassifier, RandomForestClassifier\n",
    "\n",
    "import matplotlib.pyplot as plt\n",
    "%matplotlib inline"
   ]
  },
  {
   "cell_type": "code",
   "execution_count": 2,
   "id": "918e4290",
   "metadata": {
    "execution": {
     "iopub.execute_input": "2023-04-01T14:39:02.353072Z",
     "iopub.status.busy": "2023-04-01T14:39:02.352605Z",
     "iopub.status.idle": "2023-04-01T14:39:02.497980Z",
     "shell.execute_reply": "2023-04-01T14:39:02.496319Z"
    },
    "papermill": {
     "duration": 0.159667,
     "end_time": "2023-04-01T14:39:02.501214",
     "exception": false,
     "start_time": "2023-04-01T14:39:02.341547",
     "status": "completed"
    },
    "tags": []
   },
   "outputs": [],
   "source": [
    "train_data = pd.read_csv('/kaggle/input/e-commerce-shoppers-behaviour-understanding/train_data_v2.csv')\n",
    "\n",
    "test_data = pd.read_csv('/kaggle/input/e-commerce-shoppers-behaviour-understanding/test_data_v2.csv')"
   ]
  },
  {
   "cell_type": "code",
   "execution_count": 3,
   "id": "2efecb7e",
   "metadata": {
    "execution": {
     "iopub.execute_input": "2023-04-01T14:39:02.522227Z",
     "iopub.status.busy": "2023-04-01T14:39:02.521784Z",
     "iopub.status.idle": "2023-04-01T14:39:02.544373Z",
     "shell.execute_reply": "2023-04-01T14:39:02.543452Z"
    },
    "papermill": {
     "duration": 0.036369,
     "end_time": "2023-04-01T14:39:02.547401",
     "exception": false,
     "start_time": "2023-04-01T14:39:02.511032",
     "status": "completed"
    },
    "tags": []
   },
   "outputs": [
    {
     "data": {
      "text/plain": [
       "HomePage                           153\n",
       "HomePage_Duration                  150\n",
       "LandingPage                        153\n",
       "LandingPage_Duration               135\n",
       "ProductDescriptionPage             123\n",
       "ProductDescriptionPage_Duration    167\n",
       "GoogleMetric:Bounce Rates          151\n",
       "GoogleMetric:Exit Rates            129\n",
       "GoogleMetric:Page Values           132\n",
       "SeasonalPurchase                   150\n",
       "Month_SeasonalPurchase             144\n",
       "OS                                 134\n",
       "SearchEngine                       122\n",
       "Zone                               117\n",
       "Type of Traffic                    143\n",
       "CustomerType                       144\n",
       "Gender                             145\n",
       "Cookies Setting                    144\n",
       "Education                          136\n",
       "Marital Status                     130\n",
       "WeekendPurchase                    121\n",
       "Made_Purchase                        0\n",
       "dtype: int64"
      ]
     },
     "execution_count": 3,
     "metadata": {},
     "output_type": "execute_result"
    }
   ],
   "source": [
    "train_data.isna().sum()"
   ]
  },
  {
   "cell_type": "markdown",
   "id": "feccb371",
   "metadata": {
    "papermill": {
     "duration": 0.009084,
     "end_time": "2023-04-01T14:39:02.566392",
     "exception": false,
     "start_time": "2023-04-01T14:39:02.557308",
     "status": "completed"
    },
    "tags": []
   },
   "source": [
    "# Data Preprocessing"
   ]
  },
  {
   "cell_type": "code",
   "execution_count": 4,
   "id": "886ff126",
   "metadata": {
    "execution": {
     "iopub.execute_input": "2023-04-01T14:39:02.589992Z",
     "iopub.status.busy": "2023-04-01T14:39:02.588794Z",
     "iopub.status.idle": "2023-04-01T14:39:02.771685Z",
     "shell.execute_reply": "2023-04-01T14:39:02.770602Z"
    },
    "papermill": {
     "duration": 0.196322,
     "end_time": "2023-04-01T14:39:02.774352",
     "exception": false,
     "start_time": "2023-04-01T14:39:02.578030",
     "status": "completed"
    },
    "tags": []
   },
   "outputs": [],
   "source": [
    "imputer = SimpleImputer(strategy='most_frequent')\n",
    "\n",
    "train = imputer.fit_transform(train_data)\n",
    "test = imputer.fit_transform(test_data)"
   ]
  },
  {
   "cell_type": "code",
   "execution_count": 5,
   "id": "c01745c1",
   "metadata": {
    "execution": {
     "iopub.execute_input": "2023-04-01T14:39:02.795704Z",
     "iopub.status.busy": "2023-04-01T14:39:02.794658Z",
     "iopub.status.idle": "2023-04-01T14:39:02.819989Z",
     "shell.execute_reply": "2023-04-01T14:39:02.818655Z"
    },
    "papermill": {
     "duration": 0.038884,
     "end_time": "2023-04-01T14:39:02.822764",
     "exception": false,
     "start_time": "2023-04-01T14:39:02.783880",
     "status": "completed"
    },
    "tags": []
   },
   "outputs": [],
   "source": [
    "train = pd.DataFrame(train, columns=train_data.columns)\n",
    "test = pd.DataFrame(test, columns=test_data.columns)\n",
    "\n",
    "y_train = train.pop('Made_Purchase')\n"
   ]
  },
  {
   "cell_type": "code",
   "execution_count": 6,
   "id": "d81a2c01",
   "metadata": {
    "execution": {
     "iopub.execute_input": "2023-04-01T14:39:02.843326Z",
     "iopub.status.busy": "2023-04-01T14:39:02.842863Z",
     "iopub.status.idle": "2023-04-01T14:39:02.851481Z",
     "shell.execute_reply": "2023-04-01T14:39:02.850006Z"
    },
    "papermill": {
     "duration": 0.021833,
     "end_time": "2023-04-01T14:39:02.854137",
     "exception": false,
     "start_time": "2023-04-01T14:39:02.832304",
     "status": "completed"
    },
    "tags": []
   },
   "outputs": [
    {
     "data": {
      "text/plain": [
       "(14731, 21)"
      ]
     },
     "execution_count": 6,
     "metadata": {},
     "output_type": "execute_result"
    }
   ],
   "source": [
    "train.shape"
   ]
  },
  {
   "cell_type": "code",
   "execution_count": 7,
   "id": "aaf4d786",
   "metadata": {
    "execution": {
     "iopub.execute_input": "2023-04-01T14:39:02.874884Z",
     "iopub.status.busy": "2023-04-01T14:39:02.874482Z",
     "iopub.status.idle": "2023-04-01T14:39:03.132559Z",
     "shell.execute_reply": "2023-04-01T14:39:03.131557Z"
    },
    "papermill": {
     "duration": 0.271487,
     "end_time": "2023-04-01T14:39:03.135248",
     "exception": false,
     "start_time": "2023-04-01T14:39:02.863761",
     "status": "completed"
    },
    "tags": []
   },
   "outputs": [
    {
     "data": {
      "text/plain": [
       "<AxesSubplot:>"
      ]
     },
     "execution_count": 7,
     "metadata": {},
     "output_type": "execute_result"
    },
    {
     "data": {
      "image/png": "[encoded data removed]",
      "text/plain": [
       "<Figure size 432x288 with 1 Axes>"
      ]
     },
     "metadata": {
      "needs_background": "light"
     },
     "output_type": "display_data"
    }
   ],
   "source": [
    "train['Month_SeasonalPurchase'].hist()"
   ]
  },
  {
   "cell_type": "code",
   "execution_count": 8,
   "id": "9e9a4f8a",
   "metadata": {
    "execution": {
     "iopub.execute_input": "2023-04-01T14:39:03.157894Z",
     "iopub.status.busy": "2023-04-01T14:39:03.156932Z",
     "iopub.status.idle": "2023-04-01T14:39:03.335954Z",
     "shell.execute_reply": "2023-04-01T14:39:03.334287Z"
    },
    "papermill": {
     "duration": 0.193896,
     "end_time": "2023-04-01T14:39:03.339639",
     "exception": false,
     "start_time": "2023-04-01T14:39:03.145743",
     "status": "completed"
    },
    "tags": []
   },
   "outputs": [
    {
     "data": {
      "text/plain": [
       "<AxesSubplot:>"
      ]
     },
     "execution_count": 8,
     "metadata": {},
     "output_type": "execute_result"
    },
    {
     "data": {
      "image/png": "[encoded data removed]",
      "text/plain": [
       "<Figure size 432x288 with 1 Axes>"
      ]
     },
     "metadata": {
      "needs_background": "light"
     },
     "output_type": "display_data"
    }
   ],
   "source": [
    "train['Education'].hist()"
   ]
  },
  {
   "cell_type": "code",
   "execution_count": 9,
   "id": "32e1f0ed",
   "metadata": {
    "execution": {
     "iopub.execute_input": "2023-04-01T14:39:03.364538Z",
     "iopub.status.busy": "2023-04-01T14:39:03.363344Z",
     "iopub.status.idle": "2023-04-01T14:39:03.566380Z",
     "shell.execute_reply": "2023-04-01T14:39:03.565002Z"
    },
    "papermill": {
     "duration": 0.21834,
     "end_time": "2023-04-01T14:39:03.568914",
     "exception": false,
     "start_time": "2023-04-01T14:39:03.350574",
     "status": "completed"
    },
    "tags": []
   },
   "outputs": [
    {
     "data": {
      "text/plain": [
       "<AxesSubplot:>"
      ]
     },
     "execution_count": 9,
     "metadata": {},
     "output_type": "execute_result"
    },
    {
     "data": {
      "image/png": "[encoded data removed]",
      "text/plain": [
       "<Figure size 432x288 with 1 Axes>"
      ]
     },
     "metadata": {
      "needs_background": "light"
     },
     "output_type": "display_data"
    }
   ],
   "source": [
    "train['Type of Traffic'].hist()"
   ]
  },
  {
   "cell_type": "code",
   "execution_count": 10,
   "id": "22a4a2b3",
   "metadata": {
    "execution": {
     "iopub.execute_input": "2023-04-01T14:39:03.592765Z",
     "iopub.status.busy": "2023-04-01T14:39:03.591906Z",
     "iopub.status.idle": "2023-04-01T14:39:03.755924Z",
     "shell.execute_reply": "2023-04-01T14:39:03.755074Z"
    },
    "papermill": {
     "duration": 0.178742,
     "end_time": "2023-04-01T14:39:03.758376",
     "exception": false,
     "start_time": "2023-04-01T14:39:03.579634",
     "status": "completed"
    },
    "tags": []
   },
   "outputs": [
    {
     "data": {
      "text/plain": [
       "<AxesSubplot:>"
      ]
     },
     "execution_count": 10,
     "metadata": {},
     "output_type": "execute_result"
    },
    {
     "data": {
      "image/png": "[encoded data removed]",
      "text/plain": [
       "<Figure size 432x288 with 1 Axes>"
      ]
     },
     "metadata": {
      "needs_background": "light"
     },
     "output_type": "display_data"
    }
   ],
   "source": [
    "train['CustomerType'].hist()"
   ]
  },
  {
   "cell_type": "code",
   "execution_count": 11,
   "id": "3dab4e18",
   "metadata": {
    "execution": {
     "iopub.execute_input": "2023-04-01T14:39:03.782244Z",
     "iopub.status.busy": "2023-04-01T14:39:03.781765Z",
     "iopub.status.idle": "2023-04-01T14:39:03.936184Z",
     "shell.execute_reply": "2023-04-01T14:39:03.934861Z"
    },
    "papermill": {
     "duration": 0.169572,
     "end_time": "2023-04-01T14:39:03.938920",
     "exception": false,
     "start_time": "2023-04-01T14:39:03.769348",
     "status": "completed"
    },
    "tags": []
   },
   "outputs": [
    {
     "data": {
      "text/plain": [
       "<AxesSubplot:>"
      ]
     },
     "execution_count": 11,
     "metadata": {},
     "output_type": "execute_result"
    },
    {
     "data": {
      "image/png": "[encoded data removed]",
      "text/plain": [
       "<Figure size 432x288 with 1 Axes>"
      ]
     },
     "metadata": {
      "needs_background": "light"
     },
     "output_type": "display_data"
    }
   ],
   "source": [
    "train['Gender'].hist()"
   ]
  },
  {
   "cell_type": "code",
   "execution_count": 12,
   "id": "389f624f",
   "metadata": {
    "execution": {
     "iopub.execute_input": "2023-04-01T14:39:03.963998Z",
     "iopub.status.busy": "2023-04-01T14:39:03.962860Z",
     "iopub.status.idle": "2023-04-01T14:39:04.131424Z",
     "shell.execute_reply": "2023-04-01T14:39:04.130257Z"
    },
    "papermill": {
     "duration": 0.183978,
     "end_time": "2023-04-01T14:39:04.134269",
     "exception": false,
     "start_time": "2023-04-01T14:39:03.950291",
     "status": "completed"
    },
    "tags": []
   },
   "outputs": [
    {
     "data": {
      "text/plain": [
       "<AxesSubplot:>"
      ]
     },
     "execution_count": 12,
     "metadata": {},
     "output_type": "execute_result"
    },
    {
     "data": {
      "image/png": "[encoded data removed]",
      "text/plain": [
       "<Figure size 432x288 with 1 Axes>"
      ]
     },
     "metadata": {
      "needs_background": "light"
     },
     "output_type": "display_data"
    }
   ],
   "source": [
    "train['Education'].hist()"
   ]
  },
  {
   "cell_type": "code",
   "execution_count": 13,
   "id": "f616b9dd",
   "metadata": {
    "execution": {
     "iopub.execute_input": "2023-04-01T14:39:04.168385Z",
     "iopub.status.busy": "2023-04-01T14:39:04.167400Z",
     "iopub.status.idle": "2023-04-01T14:39:04.396359Z",
     "shell.execute_reply": "2023-04-01T14:39:04.394992Z"
    },
    "papermill": {
     "duration": 0.254041,
     "end_time": "2023-04-01T14:39:04.400904",
     "exception": false,
     "start_time": "2023-04-01T14:39:04.146863",
     "status": "completed"
    },
    "tags": []
   },
   "outputs": [
    {
     "data": {
      "text/plain": [
       "<AxesSubplot:>"
      ]
     },
     "execution_count": 13,
     "metadata": {},
     "output_type": "execute_result"
    },
    {
     "data": {
      "image/png": "[encoded data removed]",
      "text/plain": [
       "<Figure size 432x288 with 1 Axes>"
      ]
     },
     "metadata": {
      "needs_background": "light"
     },
     "output_type": "display_data"
    }
   ],
   "source": [
    "train['Marital Status'].hist()"
   ]
  },
  {
   "cell_type": "code",
   "execution_count": 14,
   "id": "f11fa8aa",
   "metadata": {
    "execution": {
     "iopub.execute_input": "2023-04-01T14:39:04.431799Z",
     "iopub.status.busy": "2023-04-01T14:39:04.430833Z",
     "iopub.status.idle": "2023-04-01T14:39:04.443766Z",
     "shell.execute_reply": "2023-04-01T14:39:04.442476Z"
    },
    "papermill": {
     "duration": 0.029842,
     "end_time": "2023-04-01T14:39:04.446873",
     "exception": false,
     "start_time": "2023-04-01T14:39:04.417031",
     "status": "completed"
    },
    "tags": []
   },
   "outputs": [],
   "source": [
    "num_train = [i for i in train.columns if train_data[i].dtype == float]\n",
    "cat_train = [i for i in train.columns if train_data[i].dtype != float]\n",
    "\n",
    "num_test = [i for i in test.columns if test_data[i].dtype == float]\n",
    "cat_test = [i for i in test.columns if test_data[i].dtype != float]"
   ]
  },
  {
   "cell_type": "code",
   "execution_count": 15,
   "id": "de212a69",
   "metadata": {
    "execution": {
     "iopub.execute_input": "2023-04-01T14:39:04.481261Z",
     "iopub.status.busy": "2023-04-01T14:39:04.479904Z",
     "iopub.status.idle": "2023-04-01T14:39:04.485304Z",
     "shell.execute_reply": "2023-04-01T14:39:04.484381Z"
    },
    "papermill": {
     "duration": 0.026357,
     "end_time": "2023-04-01T14:39:04.488129",
     "exception": false,
     "start_time": "2023-04-01T14:39:04.461772",
     "status": "completed"
    },
    "tags": []
   },
   "outputs": [],
   "source": [
    "ohe = OneHotEncoder(sparse=False)\n",
    "minmax = MinMaxScaler()\n",
    "ss = StandardScaler()"
   ]
  },
  {
   "cell_type": "code",
   "execution_count": 16,
   "id": "ccb40ad7",
   "metadata": {
    "execution": {
     "iopub.execute_input": "2023-04-01T14:39:04.525055Z",
     "iopub.status.busy": "2023-04-01T14:39:04.523827Z",
     "iopub.status.idle": "2023-04-01T14:39:04.670829Z",
     "shell.execute_reply": "2023-04-01T14:39:04.669482Z"
    },
    "papermill": {
     "duration": 0.16894,
     "end_time": "2023-04-01T14:39:04.674220",
     "exception": false,
     "start_time": "2023-04-01T14:39:04.505280",
     "status": "completed"
    },
    "tags": []
   },
   "outputs": [],
   "source": [
    "X1 = ss.fit_transform(train[num_train])\n",
    "X2 = ohe.fit_transform(train[cat_train])\n",
    "X2 = ss.fit_transform(X2)\n",
    "\n",
    "X3 = ss.fit_transform(test[num_test])\n",
    "X4 = ohe.fit_transform(test[cat_test])\n",
    "X4 = ss.fit_transform(X4)"
   ]
  },
  {
   "cell_type": "code",
   "execution_count": 17,
   "id": "a82ab7f1",
   "metadata": {
    "execution": {
     "iopub.execute_input": "2023-04-01T14:39:04.705745Z",
     "iopub.status.busy": "2023-04-01T14:39:04.704595Z",
     "iopub.status.idle": "2023-04-01T14:39:04.722272Z",
     "shell.execute_reply": "2023-04-01T14:39:04.721096Z"
    },
    "papermill": {
     "duration": 0.034093,
     "end_time": "2023-04-01T14:39:04.725174",
     "exception": false,
     "start_time": "2023-04-01T14:39:04.691081",
     "status": "completed"
    },
    "tags": []
   },
   "outputs": [],
   "source": [
    "X_train = pd.concat([pd.DataFrame(X1, columns=num_train), \n",
    "               pd.DataFrame(X2, columns=ohe.get_feature_names_out())], \n",
    "              axis=1)\n",
    "\n",
    "X_test = pd.concat([pd.DataFrame(X3, columns=num_test), \n",
    "               pd.DataFrame(X4, columns=ohe.get_feature_names_out())], \n",
    "              axis=1)"
   ]
  },
  {
   "cell_type": "code",
   "execution_count": 18,
   "id": "315db9ab",
   "metadata": {
    "execution": {
     "iopub.execute_input": "2023-04-01T14:39:04.751571Z",
     "iopub.status.busy": "2023-04-01T14:39:04.751144Z",
     "iopub.status.idle": "2023-04-01T14:39:04.797600Z",
     "shell.execute_reply": "2023-04-01T14:39:04.796400Z"
    },
    "papermill": {
     "duration": 0.063632,
     "end_time": "2023-04-01T14:39:04.801082",
     "exception": false,
     "start_time": "2023-04-01T14:39:04.737450",
     "status": "completed"
    },
    "tags": []
   },
   "outputs": [
    {
     "data": {
      "text/html": [
       "<div>\n",
       "<style scoped>\n",
       "    .dataframe tbody tr th:only-of-type {\n",
       "        vertical-align: middle;\n",
       "    }\n",
       "\n",
       "    .dataframe tbody tr th {\n",
       "        vertical-align: top;\n",
       "    }\n",
       "\n",
       "    .dataframe thead th {\n",
       "        text-align: right;\n",
       "    }\n",
       "</style>\n",
       "<table border=\"1\" class=\"dataframe\">\n",
       "  <thead>\n",
       "    <tr style=\"text-align: right;\">\n",
       "      <th></th>\n",
       "      <th>HomePage</th>\n",
       "      <th>HomePage_Duration</th>\n",
       "      <th>LandingPage</th>\n",
       "      <th>LandingPage_Duration</th>\n",
       "      <th>ProductDescriptionPage</th>\n",
       "      <th>ProductDescriptionPage_Duration</th>\n",
       "      <th>GoogleMetric:Bounce Rates</th>\n",
       "      <th>GoogleMetric:Exit Rates</th>\n",
       "      <th>GoogleMetric:Page Values</th>\n",
       "      <th>SeasonalPurchase</th>\n",
       "      <th>...</th>\n",
       "      <th>Cookies Setting_ALL</th>\n",
       "      <th>Cookies Setting_Deny</th>\n",
       "      <th>Cookies Setting_Required</th>\n",
       "      <th>Education_Diploma</th>\n",
       "      <th>Education_Graduate</th>\n",
       "      <th>Education_Not Specified</th>\n",
       "      <th>Education_Others</th>\n",
       "      <th>Marital Status_Married</th>\n",
       "      <th>Marital Status_Other</th>\n",
       "      <th>Marital Status_Single</th>\n",
       "    </tr>\n",
       "  </thead>\n",
       "  <tbody>\n",
       "    <tr>\n",
       "      <th>0</th>\n",
       "      <td>-0.679181</td>\n",
       "      <td>-0.439417</td>\n",
       "      <td>-0.389509</td>\n",
       "      <td>-0.237571</td>\n",
       "      <td>-0.676525</td>\n",
       "      <td>-0.584894</td>\n",
       "      <td>3.551143</td>\n",
       "      <td>2.975017</td>\n",
       "      <td>-0.28361</td>\n",
       "      <td>-0.314568</td>\n",
       "      <td>...</td>\n",
       "      <td>-0.690501</td>\n",
       "      <td>1.372555</td>\n",
       "      <td>-0.702432</td>\n",
       "      <td>-0.574241</td>\n",
       "      <td>-0.578213</td>\n",
       "      <td>1.782977</td>\n",
       "      <td>-0.596089</td>\n",
       "      <td>-0.687716</td>\n",
       "      <td>1.377919</td>\n",
       "      <td>-0.708043</td>\n",
       "    </tr>\n",
       "    <tr>\n",
       "      <th>1</th>\n",
       "      <td>-0.679181</td>\n",
       "      <td>-0.439417</td>\n",
       "      <td>-0.389509</td>\n",
       "      <td>-0.237571</td>\n",
       "      <td>-0.654200</td>\n",
       "      <td>-0.583562</td>\n",
       "      <td>0.539548</td>\n",
       "      <td>1.815736</td>\n",
       "      <td>-0.28361</td>\n",
       "      <td>-0.314568</td>\n",
       "      <td>...</td>\n",
       "      <td>-0.690501</td>\n",
       "      <td>1.372555</td>\n",
       "      <td>-0.702432</td>\n",
       "      <td>-0.574241</td>\n",
       "      <td>-0.578213</td>\n",
       "      <td>-0.560860</td>\n",
       "      <td>1.677601</td>\n",
       "      <td>1.454090</td>\n",
       "      <td>-0.725732</td>\n",
       "      <td>-0.708043</td>\n",
       "    </tr>\n",
       "    <tr>\n",
       "      <th>2</th>\n",
       "      <td>-0.679181</td>\n",
       "      <td>-0.439417</td>\n",
       "      <td>-0.389509</td>\n",
       "      <td>-0.237571</td>\n",
       "      <td>-0.475605</td>\n",
       "      <td>-0.271447</td>\n",
       "      <td>-0.062771</td>\n",
       "      <td>0.076814</td>\n",
       "      <td>-0.28361</td>\n",
       "      <td>-0.314568</td>\n",
       "      <td>...</td>\n",
       "      <td>1.448223</td>\n",
       "      <td>-0.728568</td>\n",
       "      <td>-0.702432</td>\n",
       "      <td>-0.574241</td>\n",
       "      <td>-0.578213</td>\n",
       "      <td>-0.560860</td>\n",
       "      <td>1.677601</td>\n",
       "      <td>1.454090</td>\n",
       "      <td>-0.725732</td>\n",
       "      <td>-0.708043</td>\n",
       "    </tr>\n",
       "    <tr>\n",
       "      <th>3</th>\n",
       "      <td>-0.679181</td>\n",
       "      <td>-0.439417</td>\n",
       "      <td>-0.389509</td>\n",
       "      <td>-0.237571</td>\n",
       "      <td>-0.676525</td>\n",
       "      <td>-0.584894</td>\n",
       "      <td>3.551143</td>\n",
       "      <td>2.975017</td>\n",
       "      <td>-0.28361</td>\n",
       "      <td>1.669121</td>\n",
       "      <td>...</td>\n",
       "      <td>1.448223</td>\n",
       "      <td>-0.728568</td>\n",
       "      <td>-0.702432</td>\n",
       "      <td>1.741429</td>\n",
       "      <td>-0.578213</td>\n",
       "      <td>-0.560860</td>\n",
       "      <td>-0.596089</td>\n",
       "      <td>-0.687716</td>\n",
       "      <td>-0.725732</td>\n",
       "      <td>1.412344</td>\n",
       "    </tr>\n",
       "    <tr>\n",
       "      <th>4</th>\n",
       "      <td>-0.374187</td>\n",
       "      <td>-0.439417</td>\n",
       "      <td>-0.389509</td>\n",
       "      <td>-0.237571</td>\n",
       "      <td>-0.698849</td>\n",
       "      <td>-0.584894</td>\n",
       "      <td>3.551143</td>\n",
       "      <td>2.975017</td>\n",
       "      <td>-0.28361</td>\n",
       "      <td>-0.314568</td>\n",
       "      <td>...</td>\n",
       "      <td>-0.690501</td>\n",
       "      <td>1.372555</td>\n",
       "      <td>-0.702432</td>\n",
       "      <td>1.741429</td>\n",
       "      <td>-0.578213</td>\n",
       "      <td>-0.560860</td>\n",
       "      <td>-0.596089</td>\n",
       "      <td>-0.687716</td>\n",
       "      <td>1.377919</td>\n",
       "      <td>-0.708043</td>\n",
       "    </tr>\n",
       "    <tr>\n",
       "      <th>...</th>\n",
       "      <td>...</td>\n",
       "      <td>...</td>\n",
       "      <td>...</td>\n",
       "      <td>...</td>\n",
       "      <td>...</td>\n",
       "      <td>...</td>\n",
       "      <td>...</td>\n",
       "      <td>...</td>\n",
       "      <td>...</td>\n",
       "      <td>...</td>\n",
       "      <td>...</td>\n",
       "      <td>...</td>\n",
       "      <td>...</td>\n",
       "      <td>...</td>\n",
       "      <td>...</td>\n",
       "      <td>...</td>\n",
       "      <td>...</td>\n",
       "      <td>...</td>\n",
       "      <td>...</td>\n",
       "      <td>...</td>\n",
       "      <td>...</td>\n",
       "    </tr>\n",
       "    <tr>\n",
       "      <th>14726</th>\n",
       "      <td>-0.374187</td>\n",
       "      <td>-0.417024</td>\n",
       "      <td>-0.389509</td>\n",
       "      <td>-0.237571</td>\n",
       "      <td>0.171801</td>\n",
       "      <td>-0.093800</td>\n",
       "      <td>-0.155435</td>\n",
       "      <td>-0.549216</td>\n",
       "      <td>-0.28361</td>\n",
       "      <td>-0.314568</td>\n",
       "      <td>...</td>\n",
       "      <td>-0.690501</td>\n",
       "      <td>1.372555</td>\n",
       "      <td>-0.702432</td>\n",
       "      <td>-0.574241</td>\n",
       "      <td>-0.578213</td>\n",
       "      <td>-0.560860</td>\n",
       "      <td>1.677601</td>\n",
       "      <td>1.454090</td>\n",
       "      <td>-0.725732</td>\n",
       "      <td>-0.708043</td>\n",
       "    </tr>\n",
       "    <tr>\n",
       "      <th>14727</th>\n",
       "      <td>1.760769</td>\n",
       "      <td>0.215700</td>\n",
       "      <td>1.214589</td>\n",
       "      <td>0.170931</td>\n",
       "      <td>-0.453281</td>\n",
       "      <td>-0.458570</td>\n",
       "      <td>-0.464316</td>\n",
       "      <td>-0.675204</td>\n",
       "      <td>-0.28361</td>\n",
       "      <td>-0.314568</td>\n",
       "      <td>...</td>\n",
       "      <td>1.448223</td>\n",
       "      <td>-0.728568</td>\n",
       "      <td>-0.702432</td>\n",
       "      <td>1.741429</td>\n",
       "      <td>-0.578213</td>\n",
       "      <td>-0.560860</td>\n",
       "      <td>-0.596089</td>\n",
       "      <td>1.454090</td>\n",
       "      <td>-0.725732</td>\n",
       "      <td>-0.708043</td>\n",
       "    </tr>\n",
       "    <tr>\n",
       "      <th>14728</th>\n",
       "      <td>-0.069193</td>\n",
       "      <td>-0.016197</td>\n",
       "      <td>1.214589</td>\n",
       "      <td>4.440850</td>\n",
       "      <td>-0.475605</td>\n",
       "      <td>-0.013613</td>\n",
       "      <td>-0.464316</td>\n",
       "      <td>-0.438422</td>\n",
       "      <td>-0.28361</td>\n",
       "      <td>-0.314568</td>\n",
       "      <td>...</td>\n",
       "      <td>-0.690501</td>\n",
       "      <td>-0.728568</td>\n",
       "      <td>1.423626</td>\n",
       "      <td>-0.574241</td>\n",
       "      <td>-0.578213</td>\n",
       "      <td>-0.560860</td>\n",
       "      <td>1.677601</td>\n",
       "      <td>-0.687716</td>\n",
       "      <td>-0.725732</td>\n",
       "      <td>1.412344</td>\n",
       "    </tr>\n",
       "    <tr>\n",
       "      <th>14729</th>\n",
       "      <td>-0.679181</td>\n",
       "      <td>-0.439417</td>\n",
       "      <td>-0.389509</td>\n",
       "      <td>-0.237571</td>\n",
       "      <td>-0.564903</td>\n",
       "      <td>-0.056905</td>\n",
       "      <td>-0.464316</td>\n",
       "      <td>-0.245209</td>\n",
       "      <td>-0.28361</td>\n",
       "      <td>-0.314568</td>\n",
       "      <td>...</td>\n",
       "      <td>-0.690501</td>\n",
       "      <td>-0.728568</td>\n",
       "      <td>1.423626</td>\n",
       "      <td>-0.574241</td>\n",
       "      <td>-0.578213</td>\n",
       "      <td>1.782977</td>\n",
       "      <td>-0.596089</td>\n",
       "      <td>1.454090</td>\n",
       "      <td>-0.725732</td>\n",
       "      <td>-0.708043</td>\n",
       "    </tr>\n",
       "    <tr>\n",
       "      <th>14730</th>\n",
       "      <td>-0.679181</td>\n",
       "      <td>-0.439417</td>\n",
       "      <td>-0.389509</td>\n",
       "      <td>-0.237571</td>\n",
       "      <td>-0.230037</td>\n",
       "      <td>0.100793</td>\n",
       "      <td>-0.081892</td>\n",
       "      <td>-0.199206</td>\n",
       "      <td>-0.28361</td>\n",
       "      <td>-0.314568</td>\n",
       "      <td>...</td>\n",
       "      <td>1.448223</td>\n",
       "      <td>-0.728568</td>\n",
       "      <td>-0.702432</td>\n",
       "      <td>1.741429</td>\n",
       "      <td>-0.578213</td>\n",
       "      <td>-0.560860</td>\n",
       "      <td>-0.596089</td>\n",
       "      <td>-0.687716</td>\n",
       "      <td>1.377919</td>\n",
       "      <td>-0.708043</td>\n",
       "    </tr>\n",
       "  </tbody>\n",
       "</table>\n",
       "<p>14731 rows × 41 columns</p>\n",
       "</div>"
      ],
      "text/plain": [
       "       HomePage  HomePage_Duration  LandingPage  LandingPage_Duration  \\\n",
       "0     -0.679181          -0.439417    -0.389509             -0.237571   \n",
       "1     -0.679181          -0.439417    -0.389509             -0.237571   \n",
       "2     -0.679181          -0.439417    -0.389509             -0.237571   \n",
       "3     -0.679181          -0.439417    -0.389509             -0.237571   \n",
       "4     -0.374187          -0.439417    -0.389509             -0.237571   \n",
       "...         ...                ...          ...                   ...   \n",
       "14726 -0.374187          -0.417024    -0.389509             -0.237571   \n",
       "14727  1.760769           0.215700     1.214589              0.170931   \n",
       "14728 -0.069193          -0.016197     1.214589              4.440850   \n",
       "14729 -0.679181          -0.439417    -0.389509             -0.237571   \n",
       "14730 -0.679181          -0.439417    -0.389509             -0.237571   \n",
       "\n",
       "       ProductDescriptionPage  ProductDescriptionPage_Duration  \\\n",
       "0                   -0.676525                        -0.584894   \n",
       "1                   -0.654200                        -0.583562   \n",
       "2                   -0.475605                        -0.271447   \n",
       "3                   -0.676525                        -0.584894   \n",
       "4                   -0.698849                        -0.584894   \n",
       "...                       ...                              ...   \n",
       "14726                0.171801                        -0.093800   \n",
       "14727               -0.453281                        -0.458570   \n",
       "14728               -0.475605                        -0.013613   \n",
       "14729               -0.564903                        -0.056905   \n",
       "14730               -0.230037                         0.100793   \n",
       "\n",
       "       GoogleMetric:Bounce Rates  GoogleMetric:Exit Rates  \\\n",
       "0                       3.551143                 2.975017   \n",
       "1                       0.539548                 1.815736   \n",
       "2                      -0.062771                 0.076814   \n",
       "3                       3.551143                 2.975017   \n",
       "4                       3.551143                 2.975017   \n",
       "...                          ...                      ...   \n",
       "14726                  -0.155435                -0.549216   \n",
       "14727                  -0.464316                -0.675204   \n",
       "14728                  -0.464316                -0.438422   \n",
       "14729                  -0.464316                -0.245209   \n",
       "14730                  -0.081892                -0.199206   \n",
       "\n",
       "       GoogleMetric:Page Values  SeasonalPurchase  ...  Cookies Setting_ALL  \\\n",
       "0                      -0.28361         -0.314568  ...            -0.690501   \n",
       "1                      -0.28361         -0.314568  ...            -0.690501   \n",
       "2                      -0.28361         -0.314568  ...             1.448223   \n",
       "3                      -0.28361          1.669121  ...             1.448223   \n",
       "4                      -0.28361         -0.314568  ...            -0.690501   \n",
       "...                         ...               ...  ...                  ...   \n",
       "14726                  -0.28361         -0.314568  ...            -0.690501   \n",
       "14727                  -0.28361         -0.314568  ...             1.448223   \n",
       "14728                  -0.28361         -0.314568  ...            -0.690501   \n",
       "14729                  -0.28361         -0.314568  ...            -0.690501   \n",
       "14730                  -0.28361         -0.314568  ...             1.448223   \n",
       "\n",
       "       Cookies Setting_Deny  Cookies Setting_Required  Education_Diploma  \\\n",
       "0                  1.372555                 -0.702432          -0.574241   \n",
       "1                  1.372555                 -0.702432          -0.574241   \n",
       "2                 -0.728568                 -0.702432          -0.574241   \n",
       "3                 -0.728568                 -0.702432           1.741429   \n",
       "4                  1.372555                 -0.702432           1.741429   \n",
       "...                     ...                       ...                ...   \n",
       "14726              1.372555                 -0.702432          -0.574241   \n",
       "14727             -0.728568                 -0.702432           1.741429   \n",
       "14728             -0.728568                  1.423626          -0.574241   \n",
       "14729             -0.728568                  1.423626          -0.574241   \n",
       "14730             -0.728568                 -0.702432           1.741429   \n",
       "\n",
       "       Education_Graduate  Education_Not Specified  Education_Others  \\\n",
       "0               -0.578213                 1.782977         -0.596089   \n",
       "1               -0.578213                -0.560860          1.677601   \n",
       "2               -0.578213                -0.560860          1.677601   \n",
       "3               -0.578213                -0.560860         -0.596089   \n",
       "4               -0.578213                -0.560860         -0.596089   \n",
       "...                   ...                      ...               ...   \n",
       "14726           -0.578213                -0.560860          1.677601   \n",
       "14727           -0.578213                -0.560860         -0.596089   \n",
       "14728           -0.578213                -0.560860          1.677601   \n",
       "14729           -0.578213                 1.782977         -0.596089   \n",
       "14730           -0.578213                -0.560860         -0.596089   \n",
       "\n",
       "       Marital Status_Married  Marital Status_Other  Marital Status_Single  \n",
       "0                   -0.687716              1.377919              -0.708043  \n",
       "1                    1.454090             -0.725732              -0.708043  \n",
       "2                    1.454090             -0.725732              -0.708043  \n",
       "3                   -0.687716             -0.725732               1.412344  \n",
       "4                   -0.687716              1.377919              -0.708043  \n",
       "...                       ...                   ...                    ...  \n",
       "14726                1.454090             -0.725732              -0.708043  \n",
       "14727                1.454090             -0.725732              -0.708043  \n",
       "14728               -0.687716             -0.725732               1.412344  \n",
       "14729                1.454090             -0.725732              -0.708043  \n",
       "14730               -0.687716              1.377919              -0.708043  \n",
       "\n",
       "[14731 rows x 41 columns]"
      ]
     },
     "execution_count": 18,
     "metadata": {},
     "output_type": "execute_result"
    }
   ],
   "source": [
    "X_train"
   ]
  },
  {
   "cell_type": "code",
   "execution_count": 19,
   "id": "f831103f",
   "metadata": {
    "execution": {
     "iopub.execute_input": "2023-04-01T14:39:04.844207Z",
     "iopub.status.busy": "2023-04-01T14:39:04.842869Z",
     "iopub.status.idle": "2023-04-01T14:39:04.864770Z",
     "shell.execute_reply": "2023-04-01T14:39:04.863379Z"
    },
    "papermill": {
     "duration": 0.045871,
     "end_time": "2023-04-01T14:39:04.867890",
     "exception": false,
     "start_time": "2023-04-01T14:39:04.822019",
     "status": "completed"
    },
    "tags": []
   },
   "outputs": [],
   "source": [
    "X_train_val, X_val, y_train_val, y_val = train_test_split(X_train, y_train, test_size=0.2, random_state=23)"
   ]
  },
  {
   "cell_type": "code",
   "execution_count": 20,
   "id": "07b3da50",
   "metadata": {
    "execution": {
     "iopub.execute_input": "2023-04-01T14:39:04.895334Z",
     "iopub.status.busy": "2023-04-01T14:39:04.894914Z",
     "iopub.status.idle": "2023-04-01T14:39:04.906071Z",
     "shell.execute_reply": "2023-04-01T14:39:04.904969Z"
    },
    "papermill": {
     "duration": 0.027727,
     "end_time": "2023-04-01T14:39:04.908781",
     "exception": false,
     "start_time": "2023-04-01T14:39:04.881054",
     "status": "completed"
    },
    "tags": []
   },
   "outputs": [],
   "source": [
    "y_train_val_1 = []\n",
    "\n",
    "for value in y_train_val:\n",
    "  if value:\n",
    "    y_train_val_1.append(1)\n",
    "  else:\n",
    "    y_train_val_1.append(-1)\n",
    "    \n",
    "y_val_1 = []\n",
    "\n",
    "for value in y_val:\n",
    "  if value:\n",
    "    y_val_1.append(1)\n",
    "  else:\n",
    "    y_val_1.append(-1)"
   ]
  },
  {
   "cell_type": "code",
   "execution_count": 21,
   "id": "cb3f06be",
   "metadata": {
    "execution": {
     "iopub.execute_input": "2023-04-01T14:39:04.936596Z",
     "iopub.status.busy": "2023-04-01T14:39:04.936087Z",
     "iopub.status.idle": "2023-04-01T14:39:04.946273Z",
     "shell.execute_reply": "2023-04-01T14:39:04.945029Z"
    },
    "papermill": {
     "duration": 0.027911,
     "end_time": "2023-04-01T14:39:04.949193",
     "exception": false,
     "start_time": "2023-04-01T14:39:04.921282",
     "status": "completed"
    },
    "tags": []
   },
   "outputs": [],
   "source": [
    "from sklearn.model_selection import GridSearchCV, RandomizedSearchCV\n",
    "from sklearn.neighbors import KNeighborsClassifier\n",
    "from sklearn.naive_bayes import GaussianNB\n",
    "from sklearn.svm import SVC, NuSVC, LinearSVC\n",
    "from sklearn.linear_model import LogisticRegression\n",
    "from sklearn.metrics import confusion_matrix, ConfusionMatrixDisplay"
   ]
  },
  {
   "cell_type": "markdown",
   "id": "6fe88b0d",
   "metadata": {
    "papermill": {
     "duration": 0.012539,
     "end_time": "2023-04-01T14:39:04.974145",
     "exception": false,
     "start_time": "2023-04-01T14:39:04.961606",
     "status": "completed"
    },
    "tags": []
   },
   "source": [
    "# Logistic Regression"
   ]
  },
  {
   "cell_type": "code",
   "execution_count": 22,
   "id": "0d61ab34",
   "metadata": {
    "execution": {
     "iopub.execute_input": "2023-04-01T14:39:05.001230Z",
     "iopub.status.busy": "2023-04-01T14:39:05.000739Z",
     "iopub.status.idle": "2023-04-01T14:39:05.218256Z",
     "shell.execute_reply": "2023-04-01T14:39:05.216222Z"
    },
    "papermill": {
     "duration": 0.236223,
     "end_time": "2023-04-01T14:39:05.222743",
     "exception": false,
     "start_time": "2023-04-01T14:39:04.986520",
     "status": "completed"
    },
    "tags": []
   },
   "outputs": [
    {
     "data": {
      "text/plain": [
       "0.6460807600950119"
      ]
     },
     "execution_count": 22,
     "metadata": {},
     "output_type": "execute_result"
    }
   ],
   "source": [
    "log = LogisticRegression(solver='sag', random_state=64, tol=1e-3, max_iter=100)\n",
    "\n",
    "log.fit(X_train_val, y_train_val_1)\n",
    "\n",
    "y_log_pred = log.predict(X_val)\n",
    "\n",
    "log.score(X_val,y_val_1)"
   ]
  },
  {
   "cell_type": "code",
   "execution_count": 23,
   "id": "87473aa6",
   "metadata": {
    "execution": {
     "iopub.execute_input": "2023-04-01T14:39:05.316596Z",
     "iopub.status.busy": "2023-04-01T14:39:05.315423Z",
     "iopub.status.idle": "2023-04-01T14:39:05.501790Z",
     "shell.execute_reply": "2023-04-01T14:39:05.500587Z"
    },
    "papermill": {
     "duration": 0.222864,
     "end_time": "2023-04-01T14:39:05.504424",
     "exception": false,
     "start_time": "2023-04-01T14:39:05.281560",
     "status": "completed"
    },
    "tags": []
   },
   "outputs": [
    {
     "data": {
      "image/png": "[encoded data removed]",
      "text/plain": [
       "<Figure size 432x288 with 2 Axes>"
      ]
     },
     "metadata": {
      "needs_background": "light"
     },
     "output_type": "display_data"
    }
   ],
   "source": [
    "cm = confusion_matrix(y_val_1, y_log_pred,labels = log.classes_)\n",
    "\n",
    "disp = ConfusionMatrixDisplay(confusion_matrix=cm,display_labels=log.classes_)\n",
    "\n",
    "disp.plot()\n",
    "plt.show()"
   ]
  },
  {
   "cell_type": "markdown",
   "id": "9c534c0e",
   "metadata": {
    "papermill": {
     "duration": 0.012481,
     "end_time": "2023-04-01T14:39:05.529809",
     "exception": false,
     "start_time": "2023-04-01T14:39:05.517328",
     "status": "completed"
    },
    "tags": []
   },
   "source": [
    "# svm.SVC"
   ]
  },
  {
   "cell_type": "code",
   "execution_count": 24,
   "id": "9d4c57a7",
   "metadata": {
    "execution": {
     "iopub.execute_input": "2023-04-01T14:39:05.557025Z",
     "iopub.status.busy": "2023-04-01T14:39:05.556603Z",
     "iopub.status.idle": "2023-04-01T14:39:19.887124Z",
     "shell.execute_reply": "2023-04-01T14:39:19.885996Z"
    },
    "papermill": {
     "duration": 14.347085,
     "end_time": "2023-04-01T14:39:19.889758",
     "exception": false,
     "start_time": "2023-04-01T14:39:05.542673",
     "status": "completed"
    },
    "tags": []
   },
   "outputs": [
    {
     "data": {
      "text/plain": [
       "0.6454021038344079"
      ]
     },
     "execution_count": 24,
     "metadata": {},
     "output_type": "execute_result"
    }
   ],
   "source": [
    "svc = SVC(kernel='rbf',degree=3,gamma=0.01,random_state=23)\n",
    "\n",
    "svc.fit(X_train_val, y_train_val_1)\n",
    "\n",
    "svc.score(X_val,y_val_1)"
   ]
  },
  {
   "cell_type": "code",
   "execution_count": 25,
   "id": "ad593bb1",
   "metadata": {
    "execution": {
     "iopub.execute_input": "2023-04-01T14:39:19.917068Z",
     "iopub.status.busy": "2023-04-01T14:39:19.916241Z",
     "iopub.status.idle": "2023-04-01T14:39:22.723009Z",
     "shell.execute_reply": "2023-04-01T14:39:22.721704Z"
    },
    "papermill": {
     "duration": 2.823429,
     "end_time": "2023-04-01T14:39:22.725755",
     "exception": false,
     "start_time": "2023-04-01T14:39:19.902326",
     "status": "completed"
    },
    "tags": []
   },
   "outputs": [
    {
     "data": {
      "image/png": "[encoded data removed]",
      "text/plain": [
       "<Figure size 432x288 with 2 Axes>"
      ]
     },
     "metadata": {
      "needs_background": "light"
     },
     "output_type": "display_data"
    }
   ],
   "source": [
    "y_svc_pred = svc.predict(X_val)\n",
    "cm = confusion_matrix(y_val_1, y_svc_pred,labels = svc.classes_)\n",
    "\n",
    "disp = ConfusionMatrixDisplay(confusion_matrix=cm,display_labels=svc.classes_)\n",
    "\n",
    "disp.plot()\n",
    "plt.show()"
   ]
  },
  {
   "cell_type": "markdown",
   "id": "a73598c9",
   "metadata": {
    "papermill": {
     "duration": 0.013109,
     "end_time": "2023-04-01T14:39:22.753589",
     "exception": false,
     "start_time": "2023-04-01T14:39:22.740480",
     "status": "completed"
    },
    "tags": []
   },
   "source": [
    "# AdaBoost Classifier"
   ]
  },
  {
   "cell_type": "code",
   "execution_count": 26,
   "id": "e9b9cfc9",
   "metadata": {
    "execution": {
     "iopub.execute_input": "2023-04-01T14:39:22.782325Z",
     "iopub.status.busy": "2023-04-01T14:39:22.781892Z",
     "iopub.status.idle": "2023-04-01T14:39:22.790322Z",
     "shell.execute_reply": "2023-04-01T14:39:22.788946Z"
    },
    "papermill": {
     "duration": 0.025629,
     "end_time": "2023-04-01T14:39:22.792926",
     "exception": false,
     "start_time": "2023-04-01T14:39:22.767297",
     "status": "completed"
    },
    "tags": []
   },
   "outputs": [
    {
     "data": {
      "text/plain": [
       "\"score = cross_val_score(log, X_train_val, y_train_val_1, scoring='accuracy', cv=cv, n_jobs=-1)\\n\\nprint(score)\""
      ]
     },
     "execution_count": 26,
     "metadata": {},
     "output_type": "execute_result"
    }
   ],
   "source": [
    "cv = KFold(n_splits=10, random_state=23, shuffle=True)\n",
    "\n",
    "'''score = cross_val_score(log, X_train_val, y_train_val_1, scoring='accuracy', cv=cv, n_jobs=-1)\n",
    "\n",
    "print(score)'''"
   ]
  },
  {
   "cell_type": "code",
   "execution_count": 27,
   "id": "e6e57d6c",
   "metadata": {
    "execution": {
     "iopub.execute_input": "2023-04-01T14:39:22.821334Z",
     "iopub.status.busy": "2023-04-01T14:39:22.820875Z",
     "iopub.status.idle": "2023-04-01T14:39:44.549509Z",
     "shell.execute_reply": "2023-04-01T14:39:44.548151Z"
    },
    "papermill": {
     "duration": 21.745847,
     "end_time": "2023-04-01T14:39:44.552121",
     "exception": false,
     "start_time": "2023-04-01T14:39:22.806274",
     "status": "completed"
    },
    "tags": []
   },
   "outputs": [
    {
     "data": {
      "text/plain": [
       "{'n_estimators': 20, 'learning_rate': 1}"
      ]
     },
     "execution_count": 27,
     "metadata": {},
     "output_type": "execute_result"
    }
   ],
   "source": [
    "ada = AdaBoostClassifier(random_state=64)\n",
    "\n",
    "grid = RandomizedSearchCV(ada,\n",
    "                    {'n_estimators': [5,10,20,40],\n",
    "                     'learning_rate':[0.01,0.1,0.5,1]},\n",
    "                    cv=cv)\n",
    "\n",
    "grid.fit(X_train_val, y_train_val_1)\n",
    "grid.best_params_"
   ]
  },
  {
   "cell_type": "code",
   "execution_count": 28,
   "id": "4b21a28b",
   "metadata": {
    "execution": {
     "iopub.execute_input": "2023-04-01T14:39:44.580688Z",
     "iopub.status.busy": "2023-04-01T14:39:44.580241Z",
     "iopub.status.idle": "2023-04-01T14:44:57.059986Z",
     "shell.execute_reply": "2023-04-01T14:44:57.058821Z"
    },
    "papermill": {
     "duration": 312.511186,
     "end_time": "2023-04-01T14:44:57.076767",
     "exception": false,
     "start_time": "2023-04-01T14:39:44.565581",
     "status": "completed"
    },
    "tags": []
   },
   "outputs": [
    {
     "name": "stderr",
     "output_type": "stream",
     "text": [
      "/opt/conda/lib/python3.7/site-packages/sklearn/ensemble/_bagging.py:707: UserWarning: Some inputs do not have OOB scores. This probably means too few estimators were used to compute any reliable oob estimates.\n",
      "  \"Some inputs do not have OOB scores. \"\n",
      "/opt/conda/lib/python3.7/site-packages/sklearn/ensemble/_bagging.py:712: RuntimeWarning: invalid value encountered in true_divide\n",
      "  oob_decision_function = predictions / predictions.sum(axis=1)[:, np.newaxis]\n"
     ]
    },
    {
     "data": {
      "text/plain": [
       "BaggingClassifier(base_estimator=RandomizedSearchCV(cv=KFold(n_splits=10, random_state=23, shuffle=True),\n",
       "                                                    estimator=AdaBoostClassifier(random_state=64),\n",
       "                                                    param_distributions={'learning_rate': [0.01,\n",
       "                                                                                           0.1,\n",
       "                                                                                           0.5,\n",
       "                                                                                           1],\n",
       "                                                                         'n_estimators': [5,\n",
       "                                                                                          10,\n",
       "                                                                                          20,\n",
       "                                                                                          40]}),\n",
       "                  oob_score=True)"
      ]
     },
     "execution_count": 28,
     "metadata": {},
     "output_type": "execute_result"
    }
   ],
   "source": [
    "bag = BaggingClassifier(grid, bootstrap=True, oob_score=True)\n",
    "\n",
    "bag.fit(X_train_val, y_train_val_1)"
   ]
  },
  {
   "cell_type": "code",
   "execution_count": 29,
   "id": "54d1af7b",
   "metadata": {
    "execution": {
     "iopub.execute_input": "2023-04-01T14:44:57.105422Z",
     "iopub.status.busy": "2023-04-01T14:44:57.105004Z",
     "iopub.status.idle": "2023-04-01T14:44:57.362596Z",
     "shell.execute_reply": "2023-04-01T14:44:57.361382Z"
    },
    "papermill": {
     "duration": 0.27519,
     "end_time": "2023-04-01T14:44:57.365465",
     "exception": false,
     "start_time": "2023-04-01T14:44:57.090275",
     "status": "completed"
    },
    "tags": []
   },
   "outputs": [],
   "source": [
    "y_bag_pred = bag.predict(X_val)"
   ]
  },
  {
   "cell_type": "code",
   "execution_count": 30,
   "id": "69dc82bb",
   "metadata": {
    "execution": {
     "iopub.execute_input": "2023-04-01T14:44:57.394664Z",
     "iopub.status.busy": "2023-04-01T14:44:57.394265Z",
     "iopub.status.idle": "2023-04-01T14:44:57.638197Z",
     "shell.execute_reply": "2023-04-01T14:44:57.637022Z"
    },
    "papermill": {
     "duration": 0.26154,
     "end_time": "2023-04-01T14:44:57.640782",
     "exception": false,
     "start_time": "2023-04-01T14:44:57.379242",
     "status": "completed"
    },
    "tags": []
   },
   "outputs": [
    {
     "data": {
      "image/png": "[encoded data removed]",
      "text/plain": [
       "<Figure size 432x288 with 2 Axes>"
      ]
     },
     "metadata": {
      "needs_background": "light"
     },
     "output_type": "display_data"
    }
   ],
   "source": [
    "cm = confusion_matrix(y_val_1, y_bag_pred,labels = bag.classes_)\n",
    "\n",
    "disp = ConfusionMatrixDisplay(confusion_matrix=cm,display_labels=bag.classes_)\n",
    "\n",
    "disp.plot()\n",
    "plt.show()"
   ]
  },
  {
   "cell_type": "code",
   "execution_count": 31,
   "id": "5c6f57eb",
   "metadata": {
    "execution": {
     "iopub.execute_input": "2023-04-01T14:44:57.670648Z",
     "iopub.status.busy": "2023-04-01T14:44:57.670234Z",
     "iopub.status.idle": "2023-04-01T14:44:57.676775Z",
     "shell.execute_reply": "2023-04-01T14:44:57.675572Z"
    },
    "papermill": {
     "duration": 0.024309,
     "end_time": "2023-04-01T14:44:57.679336",
     "exception": false,
     "start_time": "2023-04-01T14:44:57.655027",
     "status": "completed"
    },
    "tags": []
   },
   "outputs": [
    {
     "data": {
      "text/plain": [
       "'ada = AdaBoostClassifier(log, learning_rate=0.1)\\n\\nada.fit(X_train_val, y_train_val_1)'"
      ]
     },
     "execution_count": 31,
     "metadata": {},
     "output_type": "execute_result"
    }
   ],
   "source": [
    "'''ada = AdaBoostClassifier(log, learning_rate=0.1)\n",
    "\n",
    "ada.fit(X_train_val, y_train_val_1)'''"
   ]
  },
  {
   "cell_type": "code",
   "execution_count": 32,
   "id": "bc8eb285",
   "metadata": {
    "execution": {
     "iopub.execute_input": "2023-04-01T14:44:57.709195Z",
     "iopub.status.busy": "2023-04-01T14:44:57.708787Z",
     "iopub.status.idle": "2023-04-01T14:44:58.172549Z",
     "shell.execute_reply": "2023-04-01T14:44:58.171217Z"
    },
    "papermill": {
     "duration": 0.48174,
     "end_time": "2023-04-01T14:44:58.175283",
     "exception": false,
     "start_time": "2023-04-01T14:44:57.693543",
     "status": "completed"
    },
    "tags": []
   },
   "outputs": [],
   "source": [
    "y_pred = bag.predict(X_test)"
   ]
  },
  {
   "cell_type": "code",
   "execution_count": 33,
   "id": "fcc1c4e5",
   "metadata": {
    "execution": {
     "iopub.execute_input": "2023-04-01T14:44:58.204367Z",
     "iopub.status.busy": "2023-04-01T14:44:58.203974Z",
     "iopub.status.idle": "2023-04-01T14:44:58.460288Z",
     "shell.execute_reply": "2023-04-01T14:44:58.459128Z"
    },
    "papermill": {
     "duration": 0.273592,
     "end_time": "2023-04-01T14:44:58.462644",
     "exception": false,
     "start_time": "2023-04-01T14:44:58.189052",
     "status": "completed"
    },
    "tags": []
   },
   "outputs": [
    {
     "data": {
      "text/plain": [
       "0.660671869697998"
      ]
     },
     "execution_count": 33,
     "metadata": {},
     "output_type": "execute_result"
    }
   ],
   "source": [
    "bag.score(X_val, y_val_1)"
   ]
  },
  {
   "cell_type": "code",
   "execution_count": 34,
   "id": "82d8064f",
   "metadata": {
    "execution": {
     "iopub.execute_input": "2023-04-01T14:44:58.492372Z",
     "iopub.status.busy": "2023-04-01T14:44:58.491910Z",
     "iopub.status.idle": "2023-04-01T14:44:58.499965Z",
     "shell.execute_reply": "2023-04-01T14:44:58.498804Z"
    },
    "papermill": {
     "duration": 0.025917,
     "end_time": "2023-04-01T14:44:58.502475",
     "exception": false,
     "start_time": "2023-04-01T14:44:58.476558",
     "status": "completed"
    },
    "tags": []
   },
   "outputs": [],
   "source": [
    "y_final = []\n",
    "\n",
    "for value in y_pred:\n",
    "    if value == 1:\n",
    "        y_final.append(True)\n",
    "    else:\n",
    "        y_final.append(False)"
   ]
  },
  {
   "cell_type": "code",
   "execution_count": 35,
   "id": "e393de5b",
   "metadata": {
    "execution": {
     "iopub.execute_input": "2023-04-01T14:44:58.532195Z",
     "iopub.status.busy": "2023-04-01T14:44:58.531756Z",
     "iopub.status.idle": "2023-04-01T14:44:58.539162Z",
     "shell.execute_reply": "2023-04-01T14:44:58.538032Z"
    },
    "papermill": {
     "duration": 0.025192,
     "end_time": "2023-04-01T14:44:58.541510",
     "exception": false,
     "start_time": "2023-04-01T14:44:58.516318",
     "status": "completed"
    },
    "tags": []
   },
   "outputs": [
    {
     "data": {
      "text/plain": [
       "6599"
      ]
     },
     "execution_count": 35,
     "metadata": {},
     "output_type": "execute_result"
    }
   ],
   "source": [
    "len(y_final)"
   ]
  },
  {
   "cell_type": "code",
   "execution_count": 36,
   "id": "1cdbedf7",
   "metadata": {
    "execution": {
     "iopub.execute_input": "2023-04-01T14:44:58.571035Z",
     "iopub.status.busy": "2023-04-01T14:44:58.570587Z",
     "iopub.status.idle": "2023-04-01T14:44:58.589186Z",
     "shell.execute_reply": "2023-04-01T14:44:58.588247Z"
    },
    "papermill": {
     "duration": 0.036311,
     "end_time": "2023-04-01T14:44:58.591820",
     "exception": false,
     "start_time": "2023-04-01T14:44:58.555509",
     "status": "completed"
    },
    "tags": []
   },
   "outputs": [],
   "source": [
    "submission = pd.DataFrame({'Made_Purchase': y_final})\n",
    "submission.to_csv('submission.csv', index = True, index_label = 'id')"
   ]
  }
 ],
 "metadata": {
  "kernelspec": {
   "display_name": "Python 3",
   "language": "python",
   "name": "python3"
  },
  "language_info": {
   "codemirror_mode": {
    "name": "ipython",
    "version": 3
   },
   "file_extension": ".py",
   "mimetype": "text/x-python",
   "name": "python",
   "nbconvert_exporter": "python",
   "pygments_lexer": "ipython3",
   "version": "3.7.12"
  },
  "papermill": {
   "default_parameters": {},
   "duration": 369.316402,
   "end_time": "2023-04-01T14:44:59.531632",
   "environment_variables": {},
   "exception": null,
   "input_path": "__notebook__.ipynb",
   "output_path": "__notebook__.ipynb",
   "parameters": {},
   "start_time": "2023-04-01T14:38:50.215230",
   "version": "2.3.4"
  }
 },
 "nbformat": 4,
 "nbformat_minor": 5
}
